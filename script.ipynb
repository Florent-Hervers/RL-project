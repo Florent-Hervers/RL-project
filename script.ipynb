{
 "cells": [
  {
   "cell_type": "markdown",
   "metadata": {},
   "source": [
    "# LA PREMIERE CELL EST POUR TE MONTRER COMMENT LES TRANSFORMATIONS FONCTIONNENT ET COMMENT L'ENVIRONNEMENT EST MODIFIE"
   ]
  },
  {
   "cell_type": "code",
   "execution_count": null,
   "metadata": {},
   "outputs": [
    {
     "name": "stdout",
     "output_type": "stream",
     "text": [
      "Loading CarRacing-v3 environment\n",
      "Observation space size: (96, 96, 3)\n",
      "Observation space resize: (64, 64, 3)\n",
      "Observation space: Box(0, 255, (64, 64, 3), uint8)\n",
      "Observation space after gray scaling: Box(0, 255, (64, 64, 1), uint8)\n",
      "Observation space size after frame stacking: Box(0, 255, (64, 64, 1), uint8)\n",
      "Box(0, 255, (64, 64, 2), uint8)\n"
     ]
    }
   ],
   "source": [
    "import gymnasium as gym\n",
    "from sb3_contrib import RecurrentPPO  # PPO récurrent (LSTM)\n",
    "from stable_baselines3.common.vec_env import DummyVecEnv, VecFrameStack\n",
    "from gymnasium.wrappers import ResizeObservation, GrayscaleObservation\n",
    "import torch.nn as nn\n",
    "\n",
    "# référence pour le dictionnaire d'hyperparamètre et des transformations: https://huggingface.co/sb3/ppo_lstm-CarRacing-v0\n",
    "\n",
    "\"\"\"\n",
    "J'UTILISE DUMMYVECENV ET VECFRAMESTACK CAR LE FrameStackObservation fait bug, chatgpt a proposé cette alternative\n",
    "Voici sa réponse:\n",
    "\"Le problème vient du fait que Stable-Baselines3 (SB3) et ses algorithmes (y compris RecurrentPPO) s'attendent généralement à un environnement \n",
    "vectorisé et utilisent habituellement la classe VecFrameStack pour empiler les observations, plutôt qu'un wrapper Gymnasium standard comme FrameStackObservation\n",
    "\n",
    "SB3 fonctionne de façon optimale avec un VecEnv (environnement vectorisé), par exemple DummyVecEnv ou SubprocVecEnv\n",
    "\n",
    "L'empilement d'images se fait alors via VecFrameStack (fournie par SB3) plutôt qu'un wrapper Gymnasium \n",
    "(qui n'est pas forcément compatible avec la vérification d'espace d'observation qu'effectue SB3)\"\n",
    "\"\"\"\n",
    "\n",
    "def make_env():\n",
    "    def _init():\n",
    "        env = gym.make(\"CarRacing-v3\", continuous=True, render_mode=\"rgb_array\")\n",
    "        env = ResizeObservation(env, (64, 64))\n",
    "        env = GrayscaleObservation(env, keep_dim=True)\n",
    "        return env\n",
    "    return _init\n",
    "\n",
    "print(\"Loading CarRacing-v3 environment\")\n",
    "env = gym.make(\"CarRacing-v3\", continuous=True, render_mode=\"rgb_array\")\n",
    "print(\"Observation space size:\", env.observation_space.shape)\n",
    "env = ResizeObservation(env, (64, 64)) # 64 from the dict\n",
    "print(\"Observation space resize:\", env.observation_space.shape)\n",
    "print(\"Observation space:\", env.observation_space)\n",
    "env = GrayscaleObservation(env, keep_dim = True)\n",
    "print(\"Observation space after gray scaling:\", env.observation_space)\n",
    "\n",
    "n_envs = 8\n",
    "env = DummyVecEnv([make_env() for _ in range(n_envs)])\n",
    "env = VecFrameStack(env, n_stack=2)\n",
    "print(env.observation_space)"
   ]
  },
  {
   "cell_type": "code",
   "execution_count": null,
   "metadata": {},
   "outputs": [
    {
     "name": "stdout",
     "output_type": "stream",
     "text": [
      "Loading CarRacing-v3 environment\n",
      "Doing PPOLSTM\n"
     ]
    },
    {
     "data": {
      "application/vnd.jupyter.widget-view+json": {
       "model_id": "018a2f5ed37840d18165962488076b6c",
       "version_major": 2,
       "version_minor": 0
      },
      "text/plain": [
       "Output()"
      ]
     },
     "metadata": {},
     "output_type": "display_data"
    },
    {
     "ename": "",
     "evalue": "",
     "output_type": "error",
     "traceback": [
      "\u001b[1;31mThe Kernel crashed while executing code in the current cell or a previous cell. \n",
      "\u001b[1;31mPlease review the code in the cell(s) to identify a possible cause of the failure. \n",
      "\u001b[1;31mClick <a href='https://aka.ms/vscodeJupyterKernelCrash'>here</a> for more info. \n",
      "\u001b[1;31mView Jupyter <a href='command:jupyter.viewOutput'>log</a> for further details."
     ]
    }
   ],
   "source": [
    "import gymnasium as gym\n",
    "from sb3_contrib import RecurrentPPO  # PPO récurrent (LSTM)\n",
    "from stable_baselines3.common.vec_env import DummyVecEnv, VecFrameStack\n",
    "from gymnasium.wrappers import ResizeObservation, GrayscaleObservation\n",
    "import torch.nn as nn\n",
    "\n",
    "# référence pour le dictionnaire d'hyperparamètre et des transformations: https://huggingface.co/sb3/ppo_lstm-CarRacing-v0\n",
    "\n",
    "\"\"\"\n",
    "DANS LE DICT IL Y A ENCORE\n",
    "('learning_rate', 'lin_1e-4') => faut il faire autre chose que 1e-4 pour le learning rate ?\n",
    "('normalize', \"{'norm_obs': False, 'norm_reward': True}\") => AUCUNE IDEE DE A QUOI CA FAIT REFERENCE\n",
    "('normalize_kwargs', {'norm_obs': False, 'norm_reward': False})] => AUCUNE IDEE DE A QUOI CA FAIT REFERENCE\n",
    "\n",
    "J'UTILISE DUMMYVECENV ET VECFRAMESTACK CAR LE FrameStackObservation fait bug, chatgpt a proposé cette alternative\n",
    "Voici sa réponse:\n",
    "\"Le problème vient du fait que Stable-Baselines3 (SB3) et ses algorithmes (y compris RecurrentPPO) s'attendent généralement à un environnement \n",
    "vectorisé et utilisent habituellement la classe VecFrameStack pour empiler les observations, plutôt qu'un wrapper Gymnasium standard comme FrameStackObservation\n",
    "\n",
    "SB3 fonctionne de façon optimale avec un VecEnv (environnement vectorisé), par exemple DummyVecEnv ou SubprocVecEnv\n",
    "\n",
    "L'empilement d'images se fait alors via VecFrameStack (fournie par SB3) plutôt qu'un wrapper Gymnasium \n",
    "(qui n'est pas forcément compatible avec la vérification d'espace d'observation qu'effectue SB3)\"\n",
    "\"\"\"\n",
    "\n",
    "def make_env():\n",
    "    def _init():\n",
    "        env = gym.make(\"CarRacing-v3\", continuous=True, render_mode=\"rgb_array\") # entrainement sur \"rgb-array\" car plus opti en terme de compute, le mode human display qqch\n",
    "        env = ResizeObservation(env, (64, 64))\n",
    "        env = GrayscaleObservation(env, keep_dim=True)\n",
    "        return env\n",
    "    return _init\n",
    "\n",
    "print(\"Loading CarRacing-v3 environment\")\n",
    "n_envs = 8\n",
    "env = DummyVecEnv([make_env() for _ in range(n_envs)])\n",
    "env = VecFrameStack(env, n_stack=2)\n",
    "\n",
    "# Dictionnaire policy kwargs venant du dict\n",
    "policy_kwargs = {\n",
    "    \"log_std_init\": -2,\n",
    "    \"ortho_init\": False,\n",
    "    \"enable_critic_lstm\": False,\n",
    "    \"activation_fn\": nn.GELU,\n",
    "    \"lstm_hidden_size\": 128,\n",
    "}\n",
    "\n",
    "# Dictionnaire d'hyperparamètres venant du dict\n",
    "hyperparams = {\n",
    "    \"batch_size\": 128,\n",
    "    \"clip_range\": 0.2,\n",
    "    \"ent_coef\": 0.0,\n",
    "    \"gae_lambda\": 0.95,\n",
    "    \"gamma\": 0.99,\n",
    "    \"learning_rate\": 1e-4, # pas sur de ça car dans le dict c'est 'lin_1e-4'\n",
    "    \"max_grad_norm\": 0.5,\n",
    "    \"n_epochs\": 10,\n",
    "    \"n_steps\": 512,\n",
    "    \"sde_sample_freq\": 4,\n",
    "    \"use_sde\": True,\n",
    "    \"vf_coef\": 0.5,\n",
    "    \"policy_kwargs\": policy_kwargs\n",
    "}\n",
    "\n",
    "# Instanciation du modèle RecurrentPPO avec la politique 'CnnLstmPolicy'\n",
    "print(\"Doing PPOLSTM\")\n",
    "model = RecurrentPPO(\"CnnLstmPolicy\", env, **hyperparams)\n",
    "\n",
    "# Nombre total de timesteps pour l'entraînement (n_timesteps = 4e6), je pense ça fait référence à n_timesteps dans le dict\n",
    "total_timesteps = 4000000.0\n",
    "\n",
    "# Lancement de l'entraînement\n",
    "# print(\"Start training\")\n",
    "model.learn(total_timesteps=total_timesteps, progress_bar=True) # le learning fonctionne bien\n",
    "\n",
    "# # Sauvegarde du modèle final\n",
    "# model.save(\"ppo_lstm_carracing_final\")"
   ]
  }
 ],
 "metadata": {
  "kernelspec": {
   "display_name": "car_racing_env",
   "language": "python",
   "name": "python3"
  },
  "language_info": {
   "codemirror_mode": {
    "name": "ipython",
    "version": 3
   },
   "file_extension": ".py",
   "mimetype": "text/x-python",
   "name": "python",
   "nbconvert_exporter": "python",
   "pygments_lexer": "ipython3",
   "version": "3.10.16"
  }
 },
 "nbformat": 4,
 "nbformat_minor": 2
}
