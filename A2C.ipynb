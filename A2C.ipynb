{
 "cells": [
  {
   "cell_type": "code",
   "execution_count": 1,
   "id": "d72d2bf0",
   "metadata": {},
   "outputs": [],
   "source": [
    "import math\n",
    "import torch\n",
    "import random\n",
    "import torch.nn as nn\n",
    "import torch.optim as optim\n",
    "import numpy as np\n",
    "import gymnasium as gym\n",
    "import os\n",
    "\n",
    "from torch.utils.tensorboard import SummaryWriter\n",
    "from torch.distributions.normal import Normal"
   ]
  },
  {
   "cell_type": "code",
   "execution_count": 2,
   "id": "c62bcd61",
   "metadata": {},
   "outputs": [],
   "source": [
    "# Hyperparameters\n",
    "CONFIG_NUMBER = 14\n",
    "\n",
    "OBSERVATION_SIZE = 64\n",
    "NB_FRAMES = 1\n",
    "NB_ENVS = 1\n",
    "CUDA = False\n",
    "SEED = 2307\n",
    "\n",
    "MAX_EPISODE_LENGTH = 12000\n",
    "LEARNING_RATE = 1e-4\n",
    "NB_STEPS = 2048\n",
    "TOTAL_TIMESTEPS = 1.5e6\n",
    "RUN_NAME = \"A2C with GAE and one env\"\n",
    "LR_SCHEDULING = \"Linear\"\n",
    "GAMMA = 0.99\n",
    "VF_COEF = 0.5\n",
    "ENT_COEF = 0.01\n",
    "MAX_GRAD_NORM = 0.5\n",
    "GAE_LAMBDA = 0.95"
   ]
  },
  {
   "cell_type": "code",
   "execution_count": 3,
   "id": "e73a7d36",
   "metadata": {},
   "outputs": [],
   "source": [
    "random.seed(SEED)\n",
    "np.random.seed(SEED)\n",
    "torch.manual_seed(SEED)\n",
    "torch.backends.cudnn.deterministic = True\n",
    "\n",
    "def make_env():\n",
    "    def thunk():\n",
    "        env = gym.make(\"CarRacing-v3\", render_mode=\"rgb_array\", lap_complete_percent=0.95, domain_randomize=False, continuous=True, max_episode_steps=MAX_EPISODE_LENGTH)\n",
    "        env = gym.wrappers.RecordEpisodeStatistics(env)\n",
    "        env = gym.wrappers.ResizeObservation(env, (OBSERVATION_SIZE, OBSERVATION_SIZE))\n",
    "        env = gym.wrappers.GrayscaleObservation(env)\n",
    "        env = gym.wrappers.FrameStackObservation(env, NB_FRAMES)\n",
    "        return env\n",
    "\n",
    "    return thunk\n",
    "\n",
    "envs = gym.vector.SyncVectorEnv([make_env() for _ in range(NB_ENVS)])"
   ]
  },
  {
   "cell_type": "code",
   "execution_count": 4,
   "id": "9867dcc9",
   "metadata": {},
   "outputs": [],
   "source": [
    "# Taken from TP5\n",
    "\n",
    "def layer_init(layer, std=np.sqrt(2), bias_const=0.0):\n",
    "    torch.nn.init.orthogonal_(layer.weight, std)\n",
    "    torch.nn.init.constant_(layer.bias, bias_const)\n",
    "    return layer\n",
    "\n",
    "class Agent(nn.Module):\n",
    "    def __init__(self, envs, nb_frames, image_size):\n",
    "        super(Agent, self).__init__()\n",
    "        self.image_size = image_size\n",
    "        self.nb_frames = nb_frames\n",
    "\n",
    "        # Actor network\n",
    "        self.actor_network = self.build_network()\n",
    "        self.actor_mean = layer_init(\n",
    "            nn.Linear(512, np.prod(envs.single_action_space.shape)),\n",
    "            std=0.01\n",
    "        )\n",
    "        self.actor_logstd = nn.Parameter(torch.zeros(1, np.prod(envs.single_action_space.shape)))\n",
    "\n",
    "        # Critic network\n",
    "        self.critic_network = self.build_network()\n",
    "        self.critic = layer_init(nn.Linear(512, 1), std=1)\n",
    "\n",
    "    def build_network(self):\n",
    "        stride = [4, 2, 1]\n",
    "        kernel_size = [8, 4, 3]\n",
    "        input_channels = [self.nb_frames, 32, 64]\n",
    "        output_channels = [32, 64, 64]\n",
    "        image_size = self.image_size\n",
    "\n",
    "        layers = []\n",
    "        for i in range(len(stride)):\n",
    "            layers.append(layer_init(nn.Conv2d(input_channels[i], output_channels[i], kernel_size[i], stride=stride[i])))\n",
    "            layers.append(nn.ReLU())\n",
    "            image_size = math.floor(((image_size - kernel_size[i]) / stride[i]) + 1)\n",
    "\n",
    "        layers.append(nn.Flatten())\n",
    "        layers.append(layer_init(nn.Linear(output_channels[-1] * image_size * image_size, 512)))\n",
    "        layers.append(nn.ReLU())\n",
    "        \n",
    "        return nn.Sequential(*layers)\n",
    "\n",
    "    def get_value(self, x):\n",
    "        hidden = self.critic_network(x / 255.0)\n",
    "        return self.critic(hidden)\n",
    "\n",
    "    def get_action_and_value(self, x, action=None):\n",
    "        actor_hidden = self.actor_network(x / 255.0)\n",
    "        action_mean = self.actor_mean(actor_hidden)\n",
    "        action_logstd = self.actor_logstd.expand_as(action_mean)\n",
    "        action_std = torch.exp(action_logstd)\n",
    "        probs = Normal(action_mean, action_std)\n",
    "        if action is None:\n",
    "            action = probs.sample()\n",
    "        \n",
    "        critic_hidden = self.critic_network(x / 255.0)\n",
    "        value = self.critic(critic_hidden)\n",
    "\n",
    "        return action, probs.log_prob(action).sum(1), probs.entropy().sum(1), value"
   ]
  },
  {
   "cell_type": "code",
   "execution_count": 5,
   "id": "468837cb",
   "metadata": {},
   "outputs": [
    {
     "name": "stderr",
     "output_type": "stream",
     "text": [
      "/home/florenthervers/miniconda3/envs/car_racing_env/lib/python3.10/site-packages/torch/cuda/__init__.py:129: UserWarning: CUDA initialization: The NVIDIA driver on your system is too old (found version 11040). Please update your GPU driver by downloading and installing a new version from the URL: http://www.nvidia.com/Download/index.aspx Alternatively, go to: https://pytorch.org to install a PyTorch version that has been compiled with your version of the CUDA driver. (Triggered internally at /pytorch/c10/cuda/CUDAFunctions.cpp:109.)\n",
      "  return torch._C._cuda_getDeviceCount() > 0\n",
      "\u001b[34m\u001b[1mwandb\u001b[0m: Using wandb-core as the SDK backend.  Please refer to https://wandb.me/wandb-core for more information.\n",
      "\u001b[34m\u001b[1mwandb\u001b[0m: Currently logged in as: \u001b[33mflo230702\u001b[0m to \u001b[32mhttps://api.wandb.ai\u001b[0m. Use \u001b[1m`wandb login --relogin`\u001b[0m to force relogin\n"
     ]
    },
    {
     "data": {
      "text/html": [
       "Waiting for wandb.init()..."
      ],
      "text/plain": [
       "<IPython.core.display.HTML object>"
      ]
     },
     "metadata": {},
     "output_type": "display_data"
    },
    {
     "data": {
      "text/html": [
       "Tracking run with wandb version 0.19.8"
      ],
      "text/plain": [
       "<IPython.core.display.HTML object>"
      ]
     },
     "metadata": {},
     "output_type": "display_data"
    },
    {
     "data": {
      "text/html": [
       "Run data is saved locally in <code>/mnt/c/Users/Session/Documents/Universite/Master 2/Reinforcement learning/Project/wandb/run-20250509_000425-ckueliev</code>"
      ],
      "text/plain": [
       "<IPython.core.display.HTML object>"
      ]
     },
     "metadata": {},
     "output_type": "display_data"
    },
    {
     "data": {
      "text/html": [
       "Syncing run <strong><a href='https://wandb.ai/Rl2025-project/RL%20Project/runs/ckueliev' target=\"_blank\">A2C with GAE and one env</a></strong> to <a href='https://wandb.ai/Rl2025-project/RL%20Project' target=\"_blank\">Weights & Biases</a> (<a href='https://wandb.me/developer-guide' target=\"_blank\">docs</a>)<br>"
      ],
      "text/plain": [
       "<IPython.core.display.HTML object>"
      ]
     },
     "metadata": {},
     "output_type": "display_data"
    },
    {
     "data": {
      "text/html": [
       " View project at <a href='https://wandb.ai/Rl2025-project/RL%20Project' target=\"_blank\">https://wandb.ai/Rl2025-project/RL%20Project</a>"
      ],
      "text/plain": [
       "<IPython.core.display.HTML object>"
      ]
     },
     "metadata": {},
     "output_type": "display_data"
    },
    {
     "data": {
      "text/html": [
       " View run at <a href='https://wandb.ai/Rl2025-project/RL%20Project/runs/ckueliev' target=\"_blank\">https://wandb.ai/Rl2025-project/RL%20Project/runs/ckueliev</a>"
      ],
      "text/plain": [
       "<IPython.core.display.HTML object>"
      ]
     },
     "metadata": {},
     "output_type": "display_data"
    }
   ],
   "source": [
    "device = torch.device(\"cuda\" if torch.cuda.is_available() and CUDA else \"cpu\")\n",
    "agent = Agent(envs, NB_FRAMES, OBSERVATION_SIZE).to(device)\n",
    "optimizer = optim.Adam(agent.parameters(), lr=LEARNING_RATE, eps=1e-5)\n",
    "\n",
    "obs = torch.zeros((NB_STEPS, NB_ENVS) + envs.single_observation_space.shape).to(device)\n",
    "actions = torch.zeros((NB_STEPS, NB_ENVS) + envs.single_action_space.shape).to(device)\n",
    "rewards = torch.zeros((NB_STEPS, NB_ENVS)).to(device)\n",
    "values = torch.zeros((NB_STEPS, NB_ENVS)).to(device)\n",
    "current_logprobs = torch.zeros((NB_STEPS, NB_ENVS)).to(device)\n",
    "previous_logprobs = torch.zeros((NB_STEPS, NB_ENVS)).to(device)\n",
    "\n",
    "global_step = 0\n",
    "next_obs, _ = envs.reset(seed=SEED)\n",
    "next_obs = torch.Tensor(next_obs).to(device)\n",
    "next_done = torch.zeros(NB_ENVS).to(device)\n",
    "\n",
    "if RUN_NAME is not None:\n",
    "    import wandb\n",
    "\n",
    "    config = {\n",
    "        \"OBSERVATION_SIZE\": OBSERVATION_SIZE,\n",
    "        \"NB_FRAMES\": NB_FRAMES,\n",
    "        \"NB_ENVS\": NB_ENVS,\n",
    "        \"SEED\": SEED,\n",
    "        \"MAX_EPISODE_LENGTH\": MAX_EPISODE_LENGTH,\n",
    "        \"LEARNING_RATE\": LEARNING_RATE,\n",
    "        \"NB_STEPS\": NB_STEPS,\n",
    "        \"TOTAL_TIMESTEPS\": TOTAL_TIMESTEPS,\n",
    "        \"LR_SCHEDULING\": LR_SCHEDULING,\n",
    "        \"GAMMA\": GAMMA,\n",
    "        \"VF_COEF\": VF_COEF,\n",
    "        \"CUDA\": CUDA,\n",
    "        \"ENT_COEF\": ENT_COEF,\n",
    "        \"CONFIG_NUMBER\": CONFIG_NUMBER,\n",
    "        \"GAE_LAMBDA\": GAE_LAMBDA\n",
    "    }\n",
    "\n",
    "    wandb.init(\n",
    "        entity=\"Rl2025-project\",\n",
    "        project=\"RL Project\",\n",
    "        name=RUN_NAME,\n",
    "        config=config,\n",
    "        sync_tensorboard=True,  # auto-upload sb3's tensorboard metrics\n",
    "        monitor_gym=True,       # auto-upload des vidéos de l'agent\n",
    "        # save_code=True,       # optionnel\n",
    "    )\n",
    "    \n",
    "    writer = SummaryWriter(f\"runs/{RUN_NAME}\")"
   ]
  },
  {
   "cell_type": "code",
   "execution_count": 6,
   "id": "ceadde90",
   "metadata": {},
   "outputs": [
    {
     "name": "stdout",
     "output_type": "stream",
     "text": [
      "global_step=12000, episodic_return=-1137.6770538244225\n",
      "global_step=22378, episodic_return=-1067.5363057326347\n",
      "global_step=28341, episodic_return=-632.942105263211\n",
      "global_step=40342, episodic_return=-1089.2508143323512\n",
      "global_step=52343, episodic_return=-1133.7979094077332\n",
      "global_step=55070, episodic_return=-334.82876712327857\n",
      "global_step=57902, episodic_return=-337.39739413679854\n",
      "global_step=69903, episodic_return=-1146.843853820647\n",
      "global_step=73913, episodic_return=-413.55167785235085\n",
      "global_step=79398, episodic_return=-600.3295202952484\n",
      "global_step=90367, episodic_return=-992.4317073172334\n",
      "global_step=102368, episodic_return=-962.3762376239507\n",
      "global_step=114369, episodic_return=-1141.7177914111037\n",
      "global_step=126370, episodic_return=-1179.0209790210024\n",
      "global_step=138371, episodic_return=-1181.0606060606276\n",
      "global_step=150372, episodic_return=-1183.9228295820124\n",
      "global_step=162373, episodic_return=-1182.5174825175027\n",
      "global_step=174374, episodic_return=-1184.3750000000184\n",
      "global_step=186375, episodic_return=-1181.6849816850026\n",
      "global_step=198376, episodic_return=-1187.012987013003\n",
      "global_step=210377, episodic_return=-1182.5174825175027\n",
      "global_step=222378, episodic_return=-1182.8767123287869\n",
      "global_step=234379, episodic_return=-1181.4814814815027\n",
      "global_step=246380, episodic_return=-1184.894259818749\n",
      "global_step=258381, episodic_return=-1175.778546712829\n",
      "global_step=270382, episodic_return=-1150.9433962264643\n",
      "global_step=282383, episodic_return=-1182.5174825175027\n",
      "global_step=294384, episodic_return=-1162.7507163324199\n",
      "global_step=306385, episodic_return=-1147.7351916376829\n",
      "global_step=318386, episodic_return=-1148.5294117647636\n",
      "global_step=330387, episodic_return=-1171.2230215827642\n",
      "global_step=342388, episodic_return=-1179.2387543252826\n",
      "global_step=354389, episodic_return=-1168.2539682540016\n",
      "global_step=366390, episodic_return=-1182.5783972125637\n",
      "global_step=378391, episodic_return=-1145.5587392550772\n",
      "global_step=390392, episodic_return=-1182.0788530466154\n",
      "global_step=402393, episodic_return=-1182.9351535836374\n",
      "global_step=414394, episodic_return=-1179.7570850202655\n",
      "global_step=426395, episodic_return=-1178.5714285714523\n",
      "global_step=438396, episodic_return=-1184.6153846154027\n",
      "global_step=450397, episodic_return=-1183.8187702265561\n",
      "global_step=462398, episodic_return=-1180.468750000022\n",
      "global_step=474399, episodic_return=-1182.8767123287869\n",
      "global_step=486400, episodic_return=-1183.2775919732635\n",
      "global_step=498401, episodic_return=-1182.9931972789313\n",
      "global_step=510402, episodic_return=-1182.8178694158273\n",
      "global_step=522403, episodic_return=-1186.3013698630302\n",
      "global_step=534404, episodic_return=-1182.8767123287869\n",
      "global_step=546405, episodic_return=-1183.0508474576468\n",
      "global_step=558406, episodic_return=-1184.674329501934\n",
      "global_step=570407, episodic_return=-1186.6220735786117\n",
      "global_step=582408, episodic_return=-1183.8709677419545\n",
      "global_step=594409, episodic_return=-1184.2767295597669\n",
      "global_step=606410, episodic_return=-1184.894259818749\n",
      "global_step=618411, episodic_return=-1183.4437086092908\n",
      "global_step=630412, episodic_return=-1184.6153846154027\n",
      "global_step=642413, episodic_return=-1182.5783972125637\n",
      "global_step=654414, episodic_return=-1184.177215189892\n",
      "global_step=666415, episodic_return=-1185.6630824372933\n",
      "global_step=678416, episodic_return=-1183.8709677419545\n",
      "global_step=690417, episodic_return=-1182.9787234042751\n",
      "global_step=702418, episodic_return=-1182.3943661972035\n",
      "global_step=714419, episodic_return=-1181.4814814815027\n",
      "global_step=726420, episodic_return=-1182.6989619377362\n",
      "global_step=738421, episodic_return=-1185.0299401197783\n",
      "global_step=750422, episodic_return=-1184.177215189892\n",
      "global_step=762423, episodic_return=-1182.7586206896751\n",
      "global_step=774424, episodic_return=-1186.0627177700517\n",
      "global_step=786425, episodic_return=-1179.919678714882\n",
      "global_step=798426, episodic_return=-1186.013986014003\n",
      "global_step=810427, episodic_return=-1181.8181818182024\n",
      "global_step=822428, episodic_return=-1179.4520547945435\n",
      "global_step=834429, episodic_return=-1182.014388489229\n",
      "global_step=846430, episodic_return=-1186.6220735786117\n",
      "global_step=858431, episodic_return=-1185.454545454563\n",
      "global_step=870432, episodic_return=-1184.6625766871348\n",
      "global_step=882433, episodic_return=-1186.3013698630302\n",
      "global_step=894434, episodic_return=-1183.1081081081277\n",
      "global_step=906435, episodic_return=-1181.4126394052255\n",
      "global_step=918436, episodic_return=-1181.8840579710352\n",
      "global_step=930437, episodic_return=-1185.8356940510087\n",
      "global_step=942438, episodic_return=-1186.3387978142243\n",
      "global_step=954439, episodic_return=-1180.4560260586538\n",
      "global_step=966440, episodic_return=-1181.3432835821106\n",
      "global_step=978441, episodic_return=-1181.8181818182024\n",
      "global_step=990442, episodic_return=-1182.1428571428776\n",
      "global_step=1002443, episodic_return=-1184.7094801223423\n",
      "global_step=1014444, episodic_return=-1182.4561403508974\n",
      "global_step=1026445, episodic_return=-1184.4236760124795\n",
      "global_step=1038446, episodic_return=-1184.732824427499\n",
      "global_step=1050447, episodic_return=-1183.9743589743778\n",
      "global_step=1062448, episodic_return=-1182.5783972125637\n",
      "global_step=1074449, episodic_return=-1183.4437086092908\n",
      "global_step=1086450, episodic_return=-1185.2941176470765\n",
      "global_step=1098451, episodic_return=-1182.8767123287869\n",
      "global_step=1110452, episodic_return=-1182.3943661972035\n",
      "global_step=1122453, episodic_return=-1182.9931972789313\n",
      "global_step=1134454, episodic_return=-1183.7133550488788\n",
      "global_step=1146455, episodic_return=-1183.5526315789666\n",
      "global_step=1158456, episodic_return=-1186.0335195530895\n",
      "global_step=1170457, episodic_return=-1183.6065573770682\n",
      "global_step=1182458, episodic_return=-1183.7133550488788\n",
      "global_step=1194459, episodic_return=-1180.9885931559152\n",
      "global_step=1206460, episodic_return=-1182.8767123287869\n",
      "global_step=1218461, episodic_return=-1181.2734082397217\n",
      "global_step=1230462, episodic_return=-1183.3333333333526\n",
      "global_step=1242463, episodic_return=-1182.332155477052\n",
      "global_step=1254464, episodic_return=-1182.332155477052\n",
      "global_step=1266465, episodic_return=-1183.6601307189733\n",
      "global_step=1278466, episodic_return=-1187.8787878788032\n",
      "global_step=1290467, episodic_return=-1183.3333333333526\n",
      "global_step=1302468, episodic_return=-1178.4482758620927\n",
      "global_step=1314469, episodic_return=-1180.0796812749227\n",
      "global_step=1326470, episodic_return=-1185.2941176470765\n",
      "global_step=1338471, episodic_return=-1183.1081081081277\n",
      "global_step=1350472, episodic_return=-1183.5526315789666\n",
      "global_step=1362473, episodic_return=-1186.348122866911\n",
      "global_step=1374474, episodic_return=-1185.6321839080633\n",
      "global_step=1386475, episodic_return=-1182.5174825175027\n",
      "global_step=1398476, episodic_return=-1184.177215189892\n",
      "global_step=1410477, episodic_return=-1183.1081081081277\n",
      "global_step=1422478, episodic_return=-1184.02555910545\n",
      "global_step=1434479, episodic_return=-1184.177215189892\n",
      "global_step=1446480, episodic_return=-1181.2734082397217\n",
      "global_step=1458481, episodic_return=-1182.2064056939705\n",
      "global_step=1470482, episodic_return=-1182.7586206896751\n",
      "global_step=1482483, episodic_return=-1181.8840579710352\n",
      "global_step=1494484, episodic_return=-1182.5783972125637\n",
      "Model saved to trained_models/a2c/a2c_config14.pt\n"
     ]
    },
    {
     "data": {
      "text/html": [],
      "text/plain": [
       "<IPython.core.display.HTML object>"
      ]
     },
     "metadata": {},
     "output_type": "display_data"
    },
    {
     "data": {
      "text/html": [
       "<br>    <style><br>        .wandb-row {<br>            display: flex;<br>            flex-direction: row;<br>            flex-wrap: wrap;<br>            justify-content: flex-start;<br>            width: 100%;<br>        }<br>        .wandb-col {<br>            display: flex;<br>            flex-direction: column;<br>            flex-basis: 100%;<br>            flex: 1;<br>            padding: 10px;<br>        }<br>    </style><br><div class=\"wandb-row\"><div class=\"wandb-col\"><h3>Run history:</h3><br/><table class=\"wandb\"><tr><td>charts/episodic_length</td><td>▃█▁▂▇███████████████████████████████████</td></tr><tr><td>charts/episodic_return</td><td>▂▂█▃▂▁▁▁▁▁▁▁▁▁▁▁▁▁▁▁▁▁▁▁▁▁▁▁▁▁▁▁▁▁▁▁▁▁▁▁</td></tr><tr><td>charts/learning_rate</td><td>██▇▇▇▇▇▇▇▆▆▆▆▆▆▅▅▄▄▄▄▄▄▄▄▃▃▃▃▃▂▂▂▂▂▂▁▁▁▁</td></tr><tr><td>global_step</td><td>▁▁▁▁▁▁▁▂▂▂▂▂▃▃▃▃▄▄▄▄▄▅▅▆▆▆▆▇▇▇▇▇▇▇▇▇▇███</td></tr><tr><td>losses/actor_loss</td><td>▅▁▄▄▄▅▃▄▄▆▆▅▂█▄▇▂▆▇█▅▂▁▆▆▄▇▆▂▂▄▃▅▃▃▄▅█▄▃</td></tr><tr><td>losses/approx_kl</td><td>▅▆▆▄▅▃▇▆█▇▅▇▄▃▇▁▇▇▃▄▄▅▇▅▅▆█▇▄▂▇▅█▇▆▇▅█▂▄</td></tr><tr><td>losses/entropy</td><td>▁▁▁▁▁▂▂▂▂▂▂▃▄▄▄▅▅▆▆▆▆▇▇▇▇▇▇▇▇▇▇█████████</td></tr><tr><td>losses/total_loss</td><td>▇█▁▆████████████████████████████████████</td></tr><tr><td>losses/value_loss</td><td>█▄▁▂▄▂▁▂▁▁▁▁▁▁▁▁▁▁▂▁▁▁▁▁▁▂▁▁▁▁▁▂▂▁▁▁▂▂▁▂</td></tr></table><br/></div><div class=\"wandb-col\"><h3>Run summary:</h3><br/><table class=\"wandb\"><tr><td>charts/episodic_length</td><td>12000</td></tr><tr><td>charts/episodic_return</td><td>-1182.5784</td></tr><tr><td>charts/learning_rate</td><td>0.0</td></tr><tr><td>global_step</td><td>1500628</td></tr><tr><td>losses/actor_loss</td><td>-0.0292</td></tr><tr><td>losses/approx_kl</td><td>0.09412</td></tr><tr><td>losses/entropy</td><td>4.28299</td></tr><tr><td>losses/total_loss</td><td>-0.07021</td></tr><tr><td>losses/value_loss</td><td>0.00364</td></tr></table><br/></div></div>"
      ],
      "text/plain": [
       "<IPython.core.display.HTML object>"
      ]
     },
     "metadata": {},
     "output_type": "display_data"
    },
    {
     "data": {
      "text/html": [
       " View run <strong style=\"color:#cdcd00\">A2C with GAE and one env</strong> at: <a href='https://wandb.ai/Rl2025-project/RL%20Project/runs/ckueliev' target=\"_blank\">https://wandb.ai/Rl2025-project/RL%20Project/runs/ckueliev</a><br> View project at: <a href='https://wandb.ai/Rl2025-project/RL%20Project' target=\"_blank\">https://wandb.ai/Rl2025-project/RL%20Project</a><br>Synced 5 W&B file(s), 0 media file(s), 0 artifact file(s) and 1 other file(s)"
      ],
      "text/plain": [
       "<IPython.core.display.HTML object>"
      ]
     },
     "metadata": {},
     "output_type": "display_data"
    },
    {
     "data": {
      "text/html": [
       "Find logs at: <code>./wandb/run-20250509_000425-ckueliev/logs</code>"
      ],
      "text/plain": [
       "<IPython.core.display.HTML object>"
      ]
     },
     "metadata": {},
     "output_type": "display_data"
    }
   ],
   "source": [
    "while global_step < TOTAL_TIMESTEPS:\n",
    "    # Annealing the rate if instructed to do so.\n",
    "    if LR_SCHEDULING == \"Linear\":\n",
    "        frac = 1.0 - global_step / TOTAL_TIMESTEPS\n",
    "        lrnow = frac * LEARNING_RATE\n",
    "        optimizer.param_groups[0][\"lr\"] = lrnow\n",
    "\n",
    "    for step in range(0, NB_STEPS):\n",
    "        global_step += NB_ENVS\n",
    "        obs[step] = next_obs\n",
    "\n",
    "        with torch.no_grad():\n",
    "            action, logprob, _, value = agent.get_action_and_value(next_obs)\n",
    "            values[step] = value.flatten()\n",
    "            current_logprobs[step] = logprob\n",
    "\n",
    "        actions[step] = action\n",
    "\n",
    "        next_obs, reward, terminations, truncations, infos = envs.step(action.cpu().numpy())\n",
    "        next_done = np.logical_or(terminations, truncations)\n",
    "        rewards[step] = torch.tensor(reward).to(device).view(-1)\n",
    "        next_obs, next_done = torch.Tensor(next_obs).to(device), torch.Tensor(next_done).to(device)\n",
    "        \n",
    "        if \"episode\" in infos:\n",
    "            completed_episodes = infos[\"_episode\"]\n",
    "            episodic_returns = infos[\"episode\"][\"r\"][completed_episodes]\n",
    "            episodic_lengths = infos[\"episode\"][\"l\"][completed_episodes]\n",
    "\n",
    "            for episodic_return, episodic_length in zip(episodic_returns, episodic_lengths):\n",
    "                print(f\"global_step={global_step}, episodic_return={episodic_return}\")\n",
    "                if RUN_NAME != None:\n",
    "                    writer.add_scalar(\"charts/episodic_return\", episodic_return, global_step)\n",
    "                    writer.add_scalar(\"charts/episodic_length\", episodic_length, global_step)\n",
    "        \n",
    "        # Break when one of the environement as reached a terminal state\n",
    "        if torch.any(next_done):\n",
    "            break\n",
    "    \n",
    "    if GAE_LAMBDA == None:\n",
    "        R = torch.Tensor([0 if next_done[i] == True else values[-1][i] for i in range(len(next_done))]).to(device)\n",
    "        returns = torch.zeros_like(rewards)\n",
    "        advantages = torch.zeros_like(rewards)\n",
    "\n",
    "        for i in reversed(range(step)):\n",
    "            R = rewards[i] + GAMMA * R\n",
    "            returns[i] = R\n",
    "            advantages[i] = returns[i] - values[i]\n",
    "    \n",
    "    else:\n",
    "        next_value = agent.get_value(next_obs).reshape(1, -1)\n",
    "        advantages = torch.zeros_like(rewards)\n",
    "        lastgaelam = 0\n",
    "\n",
    "        for t in reversed(range(step)):\n",
    "            if t == step - 1:\n",
    "                nextnonterminal = 1.0 - next_done\n",
    "                nextvalue = next_value\n",
    "            else:\n",
    "                nextnonterminal = 1.0 - torch.zeros_like(next_done)\n",
    "                nextvalue = values[t + 1]\n",
    "            \n",
    "            delta = rewards[t] + GAMMA * nextvalue * nextnonterminal - values[t]\n",
    "            advantages[t] = lastgaelam = delta + GAMMA * GAE_LAMBDA * nextnonterminal * lastgaelam\n",
    "\n",
    "        returns = advantages + values\n",
    "\n",
    "    # Normalize the advantages\n",
    "    advantages = (advantages - advantages.mean()) / (advantages.std() + 1e-8)\n",
    "\n",
    "    value_loss = torch.zeros((step, NB_ENVS))\n",
    "    actor_loss = torch.zeros((step, NB_ENVS))\n",
    "    entropy_term = torch.zeros((step, NB_ENVS))\n",
    "\n",
    "    for i in range(step):\n",
    "        _, logprob, ent, value = agent.get_action_and_value(obs[i], actions[i])\n",
    "        value = value.flatten()\n",
    "\n",
    "        actor_loss[i] = -logprob * advantages[i]\n",
    "        value_loss[i] = (returns[i] - value)**2\n",
    "        entropy_term[i] = ent\n",
    "\n",
    "    actor_loss = actor_loss.mean()\n",
    "    value_loss = 0.5 * value_loss.mean()\n",
    "    entropy_term = entropy_term.mean()\n",
    "\n",
    "    loss = actor_loss + VF_COEF * value_loss - ENT_COEF * entropy_term\n",
    "    approx_kl = (previous_logprobs - current_logprobs).mean() if global_step > NB_ENVS * NB_STEPS else 0.0\n",
    "\n",
    "    previous_logprobs = current_logprobs.detach().clone()\n",
    "    \n",
    "    optimizer.zero_grad()\n",
    "    loss.backward()\n",
    "    nn.utils.clip_grad_norm_(agent.parameters(), MAX_GRAD_NORM)\n",
    "    optimizer.step()\n",
    "\n",
    "    # logging for the losses + learning rate\n",
    "    if RUN_NAME != None:\n",
    "        writer.add_scalar(\"losses/total_loss\", loss.item(), global_step)\n",
    "        writer.add_scalar(\"losses/actor_loss\", actor_loss.mean().item(), global_step)\n",
    "        writer.add_scalar(\"losses/value_loss\", value_loss.mean().item(), global_step)\n",
    "        writer.add_scalar(\"losses/entropy\", entropy_term.mean().item(), global_step)\n",
    "        writer.add_scalar(\"losses/approx_kl\", approx_kl, global_step)\n",
    "        writer.add_scalar(\"charts/learning_rate\", lrnow, global_step)\n",
    "    \n",
    "    \n",
    "# Save the model at the end of training\n",
    "save_path = f\"trained_models/a2c/a2c_config{CONFIG_NUMBER}.pt\"\n",
    "os.makedirs(\"trained_models/a2c\", exist_ok=True)\n",
    "torch.save({\n",
    "    \"model_state_dict\": agent.state_dict(),\n",
    "    \"optimizer_state_dict\": optimizer.state_dict(),\n",
    "    \"config\": {\n",
    "        \"OBSERVATION_SIZE\": OBSERVATION_SIZE,\n",
    "        \"NB_FRAMES\": NB_FRAMES,\n",
    "        \"NB_ENVS\": NB_ENVS,\n",
    "        \"SEED\": SEED,\n",
    "        \"MAX_EPISODE_LENGTH\": MAX_EPISODE_LENGTH,\n",
    "        \"LEARNING_RATE\": LEARNING_RATE,\n",
    "        \"NB_STEPS\": NB_STEPS,\n",
    "        \"TOTAL_TIMESTEPS\": TOTAL_TIMESTEPS,\n",
    "        \"LR_SCHEDULING\": LR_SCHEDULING,\n",
    "        \"GAMMA\": GAMMA,\n",
    "        \"VF_COEF\": VF_COEF,\n",
    "        \"GAE_LAMBDA\": GAE_LAMBDA,\n",
    "    }\n",
    "}, save_path)\n",
    "print(f\"Model saved to {save_path}\")\n",
    "if RUN_NAME != None:\n",
    "    wandb.finish()"
   ]
  }
 ],
 "metadata": {
  "kernelspec": {
   "display_name": "car_racing_env",
   "language": "python",
   "name": "python3"
  },
  "language_info": {
   "codemirror_mode": {
    "name": "ipython",
    "version": 3
   },
   "file_extension": ".py",
   "mimetype": "text/x-python",
   "name": "python",
   "nbconvert_exporter": "python",
   "pygments_lexer": "ipython3",
   "version": "3.10.16"
  }
 },
 "nbformat": 4,
 "nbformat_minor": 5
}
